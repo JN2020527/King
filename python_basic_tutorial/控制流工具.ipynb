{
 "cells": [
  {
   "cell_type": "markdown",
   "id": "8cf928e4-90fd-42b6-9b55-c19de20d6f0e",
   "metadata": {},
   "source": [
    "# 控制流工具"
   ]
  },
  {
   "cell_type": "markdown",
   "id": "369a50e8-de28-4908-91bd-a98eb827dd2f",
   "metadata": {},
   "source": [
    "## *1 if* 语句"
   ]
  },
  {
   "cell_type": "code",
   "execution_count": null,
   "id": "6a48d666-7618-4243-8a6f-da504d5f1803",
   "metadata": {},
   "outputs": [],
   "source": []
  }
 ],
 "metadata": {
  "kernelspec": {
   "display_name": "Python 3 (ipykernel)",
   "language": "python",
   "name": "python3"
  },
  "language_info": {
   "codemirror_mode": {
    "name": "ipython",
    "version": 3
   },
   "file_extension": ".py",
   "mimetype": "text/x-python",
   "name": "python",
   "nbconvert_exporter": "python",
   "pygments_lexer": "ipython3",
   "version": "3.9.18"
  }
 },
 "nbformat": 4,
 "nbformat_minor": 5
}
